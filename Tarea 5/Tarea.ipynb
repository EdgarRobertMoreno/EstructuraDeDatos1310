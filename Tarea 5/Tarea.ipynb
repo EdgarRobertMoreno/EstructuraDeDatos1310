{
  "nbformat": 4,
  "nbformat_minor": 0,
  "metadata": {
    "colab": {
      "name": "Tarea",
      "provenance": [],
      "collapsed_sections": []
    },
    "kernelspec": {
      "name": "python3",
      "display_name": "Python 3"
    },
    "language_info": {
      "name": "python"
    }
  },
  "cells": [
    {
      "cell_type": "code",
      "metadata": {
        "colab": {
          "base_uri": "https://localhost:8080/"
        },
        "id": "_yMYQwyDomX4",
        "outputId": "2aac1efc-edfd-4b60-b669-d8547cafb61f"
      },
      "source": [
        "!cat junio.dat"
      ],
      "execution_count": null,
      "outputs": [
        {
          "output_type": "stream",
          "name": "stdout",
          "text": [
            "numero de trabajador, nombres, paterno, materno, horas extra, sueldo base, año de ingreso\r\n",
            "2345,CARLOS,PEREZ,CASTILLO,0,9850,2017\r\n",
            "5754,ANGEL,GOMEZ,GARRIDO,1,9850,2020\r\n",
            "5345,JESUS,MARTIN,SANTOS,2,9850,2016\r\n",
            "3267,DAVID,JIMENEZ,LOZANO,2,9850,2017\r\n",
            "8765,PEDRO,RUIZ,GUERRERO,2,9850,2017\r\n",
            "5454,DANIEL,HERNANDEZ,CANO,3,9850,2018\r\n",
            "3456,ALEJANDRO,DIAZ,PRIETO,2,9850,2018\r\n",
            "3445,MARIA,MORENO,MENDEZ,1,9850,2018\r\n",
            "9088,ALBERTO,MU�OZ,CRUZ,1,9850,2017\r\n",
            "8877,RAFAEL,ALVAREZ,FLORES,2,9850,2017\r\n",
            "6767,FERNANDO,ROMERO,HERRERA,4,9850,2019\r\n",
            "5654,PABLO,ALONSO,GALLEGO,1,9850,2019\r\n",
            "4323,JORGE,GUTIERREZ,MARQUEZ,2,9850,2020\r\n",
            "2232,RAMON,NAVARRO,LEON,1,9850,2016"
          ]
        }
      ]
    },
    {
      "cell_type": "code",
      "metadata": {
        "colab": {
          "base_uri": "https://localhost:8080/"
        },
        "id": "dBtr6gIHoeRl",
        "outputId": "33eb098c-e82e-4be9-ea57-7c69edf4843b"
      },
      "source": [
        "archivo = open(\"junio.dat\",\"rt\", encoding = 'latin-1')\n",
        "print(archivo.read())\n"
      ],
      "execution_count": null,
      "outputs": [
        {
          "output_type": "stream",
          "name": "stdout",
          "text": [
            "numero de trabajador, nombres, paterno, materno, horas extra, sueldo base, aÃ±o de ingreso\n",
            "2345,CARLOS,PEREZ,CASTILLO,0,9850,2017\n",
            "5754,ANGEL,GOMEZ,GARRIDO,1,9850,2020\n",
            "5345,JESUS,MARTIN,SANTOS,2,9850,2016\n",
            "3267,DAVID,JIMENEZ,LOZANO,2,9850,2017\n",
            "8765,PEDRO,RUIZ,GUERRERO,2,9850,2017\n",
            "5454,DANIEL,HERNANDEZ,CANO,3,9850,2018\n",
            "3456,ALEJANDRO,DIAZ,PRIETO,2,9850,2018\n",
            "3445,MARIA,MORENO,MENDEZ,1,9850,2018\n",
            "9088,ALBERTO,MUOZ,CRUZ,1,9850,2017\n",
            "8877,RAFAEL,ALVAREZ,FLORES,2,9850,2017\n",
            "6767,FERNANDO,ROMERO,HERRERA,4,9850,2019\n",
            "5654,PABLO,ALONSO,GALLEGO,1,9850,2019\n",
            "4323,JORGE,GUTIERREZ,MARQUEZ,2,9850,2020\n",
            "2232,RAMON,NAVARRO,LEON,1,9850,2016\n"
          ]
        }
      ]
    },
    {
      "cell_type": "code",
      "metadata": {
        "id": "HfPlxesYpXQI"
      },
      "source": [
        "class Trabajador:\n",
        "    def __init__( self, nt, nom, pat, mat, he, sb, ai):\n",
        "\n",
        "      self.__numero_trabajador = nt\n",
        "      self.__nombres = nom\n",
        "      self.__paterno = pat\n",
        "      self.__materno = mat\n",
        "      self.__horas_extras = he\n",
        "      self.__sueldo_base = sb\n",
        "      self.__anio_de_ingreso = ai\n",
        "\n",
        "      # asi para todos los atributos\n",
        "\n",
        "    #Aqui van todos los metodos de acceso\n",
        "    def set__numero_trabajador (self, nt):\n",
        "        self.__numero_trabajador = nt\n",
        "\n",
        "    def set__nombres (self, nom):\n",
        "        self.__nombres = nom\n",
        "\n",
        "    def set__paterno (self, pat):\n",
        "        self.__paterno = pat\n",
        "    \n",
        "    def set__materno (self, mat):\n",
        "        self.__materno = mat\n",
        "\n",
        "    def set__horas_extras (self, he):\n",
        "        self.__horas_extras = he\n",
        "\n",
        "    def set__sueldo_base (self, sb):\n",
        "        self.__sueldo_base = sb\n",
        "\n",
        "    def set__anio_de_ingreso (self, ai):\n",
        "        self.__anio_de_ingreso = ai"
      ],
      "execution_count": 1,
      "outputs": []
    },
    {
      "cell_type": "code",
      "metadata": {
        "id": "HsrjouKoqPkw"
      },
      "source": [
        "class Nomina:\n",
        "    def __init__(self, ruta_archivo):\n",
        "        #Abrir el archivo y terminar el numero de empleados\n",
        "        self.__data = Array(num_emp)\n",
        "\n",
        "    def calcular_suedos(self, sb, he):\n",
        "        #Iterar sobre el Array y hacer el calculo de sueldos\n",
        "        self.__data = Array(sueldo_base)\n",
        "        self.__data = Array(horas_extras)\n",
        "\n",
        "    def buscar_mas_antiguo(self, ai):\n",
        "        #Intentara buscar en el array el de mayor antiguedad en el puesto\n",
        "        self.__data = Array(anio_de_ingreso)\n",
        "\n",
        "    def buscar_menor_antiguedad(self, ai):\n",
        "        self.__data = Array(anio_de_ingreso) \n",
        "    "
      ],
      "execution_count": 19,
      "outputs": []
    }
  ]
}