{
  "nbformat": 4,
  "nbformat_minor": 0,
  "metadata": {
    "colab": {
      "name": "Tarea",
      "provenance": [],
      "collapsed_sections": []
    },
    "kernelspec": {
      "name": "python3",
      "display_name": "Python 3"
    },
    "language_info": {
      "name": "python"
    }
  },
  "cells": [
    {
      "cell_type": "code",
      "metadata": {
        "colab": {
          "base_uri": "https://localhost:8080/"
        },
        "id": "_yMYQwyDomX4",
        "outputId": "2aac1efc-edfd-4b60-b669-d8547cafb61f"
      },
      "source": [
        "!cat junio.dat"
      ],
      "execution_count": null,
      "outputs": [
        {
          "output_type": "stream",
          "name": "stdout",
          "text": [
            "numero de trabajador, nombres, paterno, materno, horas extra, sueldo base, año de ingreso\r\n",
            "2345,CARLOS,PEREZ,CASTILLO,0,9850,2017\r\n",
            "5754,ANGEL,GOMEZ,GARRIDO,1,9850,2020\r\n",
            "5345,JESUS,MARTIN,SANTOS,2,9850,2016\r\n",
            "3267,DAVID,JIMENEZ,LOZANO,2,9850,2017\r\n",
            "8765,PEDRO,RUIZ,GUERRERO,2,9850,2017\r\n",
            "5454,DANIEL,HERNANDEZ,CANO,3,9850,2018\r\n",
            "3456,ALEJANDRO,DIAZ,PRIETO,2,9850,2018\r\n",
            "3445,MARIA,MORENO,MENDEZ,1,9850,2018\r\n",
            "9088,ALBERTO,MU�OZ,CRUZ,1,9850,2017\r\n",
            "8877,RAFAEL,ALVAREZ,FLORES,2,9850,2017\r\n",
            "6767,FERNANDO,ROMERO,HERRERA,4,9850,2019\r\n",
            "5654,PABLO,ALONSO,GALLEGO,1,9850,2019\r\n",
            "4323,JORGE,GUTIERREZ,MARQUEZ,2,9850,2020\r\n",
            "2232,RAMON,NAVARRO,LEON,1,9850,2016"
          ]
        }
      ]
    },
    {
      "cell_type": "code",
      "metadata": {
        "colab": {
          "base_uri": "https://localhost:8080/"
        },
        "id": "dBtr6gIHoeRl",
        "outputId": "33eb098c-e82e-4be9-ea57-7c69edf4843b"
      },
      "source": [
        "archivo = open(\"junio.dat\",\"rt\", encoding = 'latin-1')\n",
        "print(archivo.read())\n"
      ],
      "execution_count": null,
      "outputs": [
        {
          "output_type": "stream",
          "name": "stdout",
          "text": [
            "numero de trabajador, nombres, paterno, materno, horas extra, sueldo base, aÃ±o de ingreso\n",
            "2345,CARLOS,PEREZ,CASTILLO,0,9850,2017\n",
            "5754,ANGEL,GOMEZ,GARRIDO,1,9850,2020\n",
            "5345,JESUS,MARTIN,SANTOS,2,9850,2016\n",
            "3267,DAVID,JIMENEZ,LOZANO,2,9850,2017\n",
            "8765,PEDRO,RUIZ,GUERRERO,2,9850,2017\n",
            "5454,DANIEL,HERNANDEZ,CANO,3,9850,2018\n",
            "3456,ALEJANDRO,DIAZ,PRIETO,2,9850,2018\n",
            "3445,MARIA,MORENO,MENDEZ,1,9850,2018\n",
            "9088,ALBERTO,MUOZ,CRUZ,1,9850,2017\n",
            "8877,RAFAEL,ALVAREZ,FLORES,2,9850,2017\n",
            "6767,FERNANDO,ROMERO,HERRERA,4,9850,2019\n",
            "5654,PABLO,ALONSO,GALLEGO,1,9850,2019\n",
            "4323,JORGE,GUTIERREZ,MARQUEZ,2,9850,2020\n",
            "2232,RAMON,NAVARRO,LEON,1,9850,2016\n"
          ]
        }
      ]
    },
    {
      "cell_type": "code",
      "metadata": {
        "id": "HfPlxesYpXQI",
        "colab": {
          "base_uri": "https://localhost:8080/"
        },
        "outputId": "f8b9cca8-5c35-4728-fd0a-e33f322045e8"
      },
      "source": [
        "class Trabajador:\n",
        "    def __init__( self, nt, nom, pat, mat, he, sb, ai):\n",
        "\n",
        "      self.__numero_trabajador = nt\n",
        "      self.__nombres = nom\n",
        "      self.__paterno = pat\n",
        "      self.__materno = mat\n",
        "      self.__horas_extras = he\n",
        "      self.__sueldo_base = sb\n",
        "      self.__anio_de_ingreso = ai\n",
        "\n",
        "      # asi para todos los atributos\n",
        "\n",
        "    #Aqui van todos los metodos de acceso\n",
        "\n",
        "    def set_numero_trabajador( self , nt ):\n",
        "        self.__numero_trabajador = nt \n",
        "   \n",
        "    def get_numero_trabajador( self ):\n",
        "        return self.__numero_trabajador\n",
        "    \n",
        "    def set_nombres( self , nom ):\n",
        "        self.__nombres = nom \n",
        "   \n",
        "    def get_nombres( self ):\n",
        "        return self.__nombres\n",
        "    \n",
        "    def set_paterno( self , pat ):\n",
        "        self.__paterno = pat \n",
        "   \n",
        "    def get_paterno( self ):\n",
        "        return self.__paterno\n",
        "  \n",
        "    def set_materno( self , mat ):\n",
        "        self.__materno = mat \n",
        "   \n",
        "    def get_materno( self ):\n",
        "        return self.__materno\n",
        "\n",
        "    def set_horas_extras( self , he ):\n",
        "        self.__horas_extras = he \n",
        "   \n",
        "    def get_horas_extras( self ):\n",
        "        return self.__horas_extras\n",
        "\n",
        "    def set_sueldo_base( self , sb ):\n",
        "        self.__sueldo_base = sb \n",
        "    \n",
        "    def get_sueldo_base( self ):\n",
        "        return self.__sueldo_base\n",
        "\n",
        "    def set_nombres( self , nom ):\n",
        "        self.__nombres = nt \n",
        "    def get_nombres( self ):\n",
        "        return self.__nombres\n",
        "\n",
        "    def set_anio_de_ingreso( self , ai ):\n",
        "        self.__anio_de_ingreso = ai \n",
        "    def get_anio_de_ingreso( self ):\n",
        "        return self.__anio_de_ingreso\n",
        "\n",
        "#Métodos de uso general\n",
        "\n",
        "    def calcular_sueldo_mensual( self ):\n",
        "        anios = 2021 - self.get_anio_de_ingreso()\n",
        "\n",
        "        sueldo = self.get_sueldo_base()\n",
        "        #Horas extras\n",
        "        sueldo += self.get_horas_extras() * 276.5\n",
        "        #Prestación Antiguedad\n",
        "        sueldo = sueldo + ( sueldo * anios * 0.03 )\n",
        "        return sueldo\n",
        "\n",
        "    def to_string( self ):\n",
        "        return self.__nombres + \" \" + self.__paterno + \" \" + self.__materno + \" \\nSueldo: $ \"+ str(self.calcular_sueldo_mensual())\n",
        "        \n",
        "    def calcular_atiguedad( self ):\n",
        "        return 2021 - self.get_anio_de_ingreso()\n",
        "emp = Trabajador( 2345, 'CARLOS', 'PEREZ' , 'CASTILLO', 1 , 9850 , 2017 )\n",
        "\n",
        "print(\"Sueldo Base: $\" , emp.get_sueldo_base())\n",
        "print(\"Horas Extras:\" , emp.get_horas_extras())\n",
        "print(\"Años en la empresa:\" , emp.calcular_atiguedad())\n",
        "print(\"Nombre:\" , emp.to_string())\n"
      ],
      "execution_count": 40,
      "outputs": [
        {
          "output_type": "stream",
          "name": "stdout",
          "text": [
            "Sueldo Base: $ 9850\n",
            "Horas Extras: 1\n",
            "Años en la empresa: 4\n",
            "Nombre: CARLOS PEREZ CASTILLO \n",
            "Sueldo: $ 11341.68\n"
          ]
        }
      ]
    },
    {
      "cell_type": "code",
      "metadata": {
        "id": "HsrjouKoqPkw"
      },
      "source": [
        "class Nomina:\n",
        "    def __init__(self, ruta_archivo):\n",
        "        #Abrir el archivo y terminar el numero de empleados\n",
        "        self.__data = Array(num_emp)\n",
        "\n",
        "    def calcular_suedos(self, sb, he):\n",
        "        #Iterar sobre el Array y hacer el calculo de sueldos\n",
        "        self.__data = Array(sueldo_base)\n",
        "        self.__data = Array(horas_extras)\n",
        "\n",
        "    def buscar_mas_antiguo(self, ai):\n",
        "        #Intentara buscar en el array el de mayor antiguedad en el puesto\n",
        "        self.__data = Array(anio_de_ingreso)\n",
        "\n",
        "    def buscar_menor_antiguedad(self, ai):\n",
        "        self.__data = Array(anio_de_ingreso) \n",
        "    "
      ],
      "execution_count": 6,
      "outputs": []
    }
  ]
}