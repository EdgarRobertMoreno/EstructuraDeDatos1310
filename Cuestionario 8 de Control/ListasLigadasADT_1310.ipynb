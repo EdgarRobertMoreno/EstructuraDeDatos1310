{
  "nbformat": 4,
  "nbformat_minor": 0,
  "metadata": {
    "colab": {
      "name": "ListasLigadasADT_1310.ipynb",
      "provenance": [],
      "collapsed_sections": []
    },
    "kernelspec": {
      "name": "python3",
      "display_name": "Python 3"
    },
    "language_info": {
      "name": "python"
    }
  },
  "cells": [
    {
      "cell_type": "markdown",
      "metadata": {
        "id": "NPRnhQrW0jse"
      },
      "source": [
        "# Ejecicios con la clase Nodo\n",
        "\n",
        "- Crear un nodo\n",
        "    - Imprimir el valor del nodo\n",
        "- Crear dos nodos\n",
        "    - imprimir el valor del primero\n",
        "    - imprimir el valor del segundo\n",
        "    - transversal\n",
        "- Lo mismo pero con 4 nodos 10, 20, 30, 40\n",
        "    - imprimir el valor del primero\n",
        "    - imprimir el valor del ultimo\n",
        "    - transversal\n",
        "\n",
        "### Todo esto antes de ir a la escritura formal del ADT Lista ligada"
      ]
    },
    {
      "cell_type": "code",
      "metadata": {
        "id": "W9L8AaaL0dBk"
      },
      "source": [
        "class Nodo:\n",
        "    def __init__(self, value, siguiente = None):\n",
        "\n",
        "        self.data = value\n",
        "        self.next = siguiente\n",
        "        "
      ],
      "execution_count": 15,
      "outputs": []
    },
    {
      "cell_type": "code",
      "metadata": {
        "colab": {
          "base_uri": "https://localhost:8080/"
        },
        "id": "AJz2of6Q1rhB",
        "outputId": "6764242b-4382-41b2-8694-fdcf6ef73605"
      },
      "source": [
        "head = Nodo(10)\n",
        "print(head.data)"
      ],
      "execution_count": 17,
      "outputs": [
        {
          "output_type": "stream",
          "name": "stdout",
          "text": [
            "10\n"
          ]
        }
      ]
    },
    {
      "cell_type": "code",
      "metadata": {
        "colab": {
          "base_uri": "https://localhost:8080/"
        },
        "id": "3QM-DPRM2ckZ",
        "outputId": "fe4e8de4-392b-40cc-f3a9-565a6de7aacb"
      },
      "source": [
        "head = Nodo(10)\n",
        "head.next = Nodo(20)\n",
        "print(f\"Primero = {head.data}\")\n",
        "print(f\"Segundo = {head.next.data}\")\n",
        "\n",
        "# Lo mismo pero ahorrando codigo\n",
        "\n",
        "head = Nodo (10, Nodo(20))\n",
        "print(f\"Primero = {head.data}\")\n",
        "print(f\"Segundo = {head.next.data}\")\n",
        "\n",
        "# Transversal\n",
        "\n",
        "curr_node = head\n",
        "while curr_node != None:\n",
        "    print(f'| {curr_node.data} | --> ' , end= '')\n",
        "    curr_node = curr_node.next\n",
        "print(\"\")\n"
      ],
      "execution_count": 18,
      "outputs": [
        {
          "output_type": "stream",
          "name": "stdout",
          "text": [
            "Primero = 10\n",
            "Segundo = 20\n",
            "Primero = 10\n",
            "Segundo = 20\n",
            "| 10 | --> | 20 | --> \n"
          ]
        }
      ]
    },
    {
      "cell_type": "code",
      "metadata": {
        "colab": {
          "base_uri": "https://localhost:8080/",
          "height": 282
        },
        "id": "lslA-T_G65W5",
        "outputId": "8ed9dc76-efff-4f0a-927f-aecd8299edae"
      },
      "source": [
        "head = Nodo(10,Nodo(20, Nodo(30, Nodo(40))))\n",
        "# Transversal\n",
        "curr_node = head\n",
        "while curr_node != None:\n",
        "    print(f'| {curr_node.data} | --> ' , end= '')\n",
        "    curr_node = curr_node.next\n",
        "\n",
        "print(\"\")\n",
        "\n",
        "# Imprimir primero\n",
        "print(head.data)\n",
        "# Imprimir el ultimo\n",
        "curr_node = head\n",
        "while curr_node.next != None:\n",
        "    curr_node = curr_node.next\n",
        "print(curr_node.data)\n",
        "\n",
        "# Inserar el nodo 25, despues del nodo 20 y antes de\n",
        "curr_node = head\n",
        "while curr_node != 20:\n",
        "    curr_node = curr_node.next\n",
        "print(curr_node.data)\n",
        "\n",
        "# crear el nodo 25\n",
        "curr_node.next = nodo(25,curr_node.next)\n",
        "print(\"DEspues de insertar 25\")\n",
        "#Transversal \n",
        "curr_node = head\n",
        "while curr_node != None:\n",
        "    print(f'| {curr_node.data} | -->', end=\"\")\n",
        "    curr_node = curr_node.next\n",
        "print(\"\")"
      ],
      "execution_count": 19,
      "outputs": [
        {
          "output_type": "stream",
          "name": "stdout",
          "text": [
            "| 10 | --> | 20 | --> | 30 | --> | 40 | --> \n",
            "10\n",
            "40\n"
          ]
        },
        {
          "output_type": "error",
          "ename": "AttributeError",
          "evalue": "ignored",
          "traceback": [
            "\u001b[0;31m---------------------------------------------------------------------------\u001b[0m",
            "\u001b[0;31mAttributeError\u001b[0m                            Traceback (most recent call last)",
            "\u001b[0;32m<ipython-input-19-99173ee368fe>\u001b[0m in \u001b[0;36m<module>\u001b[0;34m()\u001b[0m\n\u001b[1;32m     19\u001b[0m \u001b[0mcurr_node\u001b[0m \u001b[0;34m=\u001b[0m \u001b[0mhead\u001b[0m\u001b[0;34m\u001b[0m\u001b[0;34m\u001b[0m\u001b[0m\n\u001b[1;32m     20\u001b[0m \u001b[0;32mwhile\u001b[0m \u001b[0mcurr_node\u001b[0m \u001b[0;34m!=\u001b[0m \u001b[0;36m20\u001b[0m\u001b[0;34m:\u001b[0m\u001b[0;34m\u001b[0m\u001b[0;34m\u001b[0m\u001b[0m\n\u001b[0;32m---> 21\u001b[0;31m     \u001b[0mcurr_node\u001b[0m \u001b[0;34m=\u001b[0m \u001b[0mcurr_node\u001b[0m\u001b[0;34m.\u001b[0m\u001b[0mnext\u001b[0m\u001b[0;34m\u001b[0m\u001b[0;34m\u001b[0m\u001b[0m\n\u001b[0m\u001b[1;32m     22\u001b[0m \u001b[0mprint\u001b[0m\u001b[0;34m(\u001b[0m\u001b[0mcurr_node\u001b[0m\u001b[0;34m.\u001b[0m\u001b[0mdata\u001b[0m\u001b[0;34m)\u001b[0m\u001b[0;34m\u001b[0m\u001b[0;34m\u001b[0m\u001b[0m\n\u001b[1;32m     23\u001b[0m \u001b[0;34m\u001b[0m\u001b[0m\n",
            "\u001b[0;31mAttributeError\u001b[0m: 'NoneType' object has no attribute 'next'"
          ]
        }
      ]
    },
    {
      "cell_type": "code",
      "metadata": {
        "colab": {
          "base_uri": "https://localhost:8080/"
        },
        "id": "L47WyM-9bMV1",
        "outputId": "4baac3c6-5c56-48cf-fa94-d0c9b037965f"
      },
      "source": [
        "a = 10\n",
        "b = 20\n",
        "c = 15\n",
        "c = c + a\n",
        "# c?\n",
        "\n",
        "c = (c + a) * b \n",
        "print(c)"
      ],
      "execution_count": 20,
      "outputs": [
        {
          "output_type": "stream",
          "name": "stdout",
          "text": [
            "700\n"
          ]
        }
      ]
    },
    {
      "cell_type": "code",
      "metadata": {
        "id": "7GfKmAFOc8GO"
      },
      "source": [
        "class Nodo:\n",
        "    def __init__(self, value, siguiente = None):\n",
        "\n",
        "        self.data = value\n",
        "        self.next = siguiente\n",
        "        \n",
        "class Linkedlist:\n",
        "\n",
        "  \n",
        "    def __init__(self):\n",
        "        self.head = None\n",
        "\n",
        "    def is_empty(self): # true o false\n",
        "        return self.head == None \n",
        "\n",
        "    def get_tail(self):\n",
        "        if self.is_empty():\n",
        "            return None\n",
        "        else:\n",
        "            curr_node = self.head\n",
        "            while curr_node.next != None:\n",
        "                curr_node = curr_node.next\n",
        "            return curr_node\n",
        "\n",
        "    def append(self, value):\n",
        "        if self.head == None:\n",
        "            self.head = Nodo(value)\n",
        "        else:\n",
        "            curr_node = self.head\n",
        "            while curr_node.next != None:\n",
        "                curr_node = curr_node.next\n",
        "            curr_node.next = Nodo(value)\n",
        "\n",
        "    def transversal(self):\n",
        "        curr_node = self.head\n",
        "        while curr_node != None:\n",
        "            print(f'| {curr_node.data} | -->', end=\"\")\n",
        "            curr_node = curr_node.next\n",
        "        print(\"\")\n",
        "\n",
        "    def remove (self, value):\n",
        "        if self.head == None:\n",
        "          print(\"List vacia, no se puede remover nada\")\n",
        "        else:\n",
        "            curr_node = self.head\n",
        "            aux = None\n",
        "            while curr_node.data != value:\n",
        "                aux = curr_node\n",
        "                curr_node = curr_node.next\n",
        "\n",
        "            if curr_node != Node:\n",
        "                aux.next = curr_node.next\n",
        "                curr_node = None\n",
        "\n",
        "    def prepend (self, value):\n",
        "        if self.head != None:\n",
        "            print(\"Esta vacio, no se puede hacer preppend\")\n",
        "        else:\n",
        "             aux = self.head\n",
        "             self.head = Nodo(value, aux)"
      ],
      "execution_count": 23,
      "outputs": []
    },
    {
      "cell_type": "code",
      "metadata": {
        "colab": {
          "base_uri": "https://localhost:8080/",
          "height": 401
        },
        "id": "cbo3gnQDfdXc",
        "outputId": "48027c1f-b81e-44d9-e5f2-fbd2bcfc4181"
      },
      "source": [
        "lista = Linkedlist()\n",
        "if lista.is_empty():\n",
        "    print(\"La lista esta vacia\")\n",
        "else:\n",
        "    print(\"La lista no esta vacia\")\n",
        "\n",
        "lista.append(10)\n",
        "lista.append(20)\n",
        "lista.append(30)\n",
        "lista.append(40)\n",
        "lista.append(50)\n",
        "nodo = lista.get_tail()\n",
        "if nodo != None:\n",
        "    print(nodo.data)\n",
        "else:\n",
        "    print(\"Lista esta vacia\")\n",
        "\n",
        "lista.transversal()\n",
        "lista.remove(30)\n",
        "lista.transversal()\n",
        "lista.prepend(5)\n",
        "print(\"\")\n",
        "lista.transversal()"
      ],
      "execution_count": 25,
      "outputs": [
        {
          "output_type": "stream",
          "name": "stdout",
          "text": [
            "La lista esta vacia\n",
            "50\n",
            "| 10 | -->| 20 | -->| 30 | -->| 40 | -->| 50 | -->\n"
          ]
        },
        {
          "output_type": "error",
          "ename": "NameError",
          "evalue": "ignored",
          "traceback": [
            "\u001b[0;31m---------------------------------------------------------------------------\u001b[0m",
            "\u001b[0;31mNameError\u001b[0m                                 Traceback (most recent call last)",
            "\u001b[0;32m<ipython-input-25-7969e863eb06>\u001b[0m in \u001b[0;36m<module>\u001b[0;34m()\u001b[0m\n\u001b[1;32m     17\u001b[0m \u001b[0;34m\u001b[0m\u001b[0m\n\u001b[1;32m     18\u001b[0m \u001b[0mlista\u001b[0m\u001b[0;34m.\u001b[0m\u001b[0mtransversal\u001b[0m\u001b[0;34m(\u001b[0m\u001b[0;34m)\u001b[0m\u001b[0;34m\u001b[0m\u001b[0;34m\u001b[0m\u001b[0m\n\u001b[0;32m---> 19\u001b[0;31m \u001b[0mlista\u001b[0m\u001b[0;34m.\u001b[0m\u001b[0mremove\u001b[0m\u001b[0;34m(\u001b[0m\u001b[0;36m30\u001b[0m\u001b[0;34m)\u001b[0m\u001b[0;34m\u001b[0m\u001b[0;34m\u001b[0m\u001b[0m\n\u001b[0m\u001b[1;32m     20\u001b[0m \u001b[0mlista\u001b[0m\u001b[0;34m.\u001b[0m\u001b[0mtransversal\u001b[0m\u001b[0;34m(\u001b[0m\u001b[0;34m)\u001b[0m\u001b[0;34m\u001b[0m\u001b[0;34m\u001b[0m\u001b[0m\n\u001b[1;32m     21\u001b[0m \u001b[0mlista\u001b[0m\u001b[0;34m.\u001b[0m\u001b[0mprepend\u001b[0m\u001b[0;34m(\u001b[0m\u001b[0;36m5\u001b[0m\u001b[0;34m)\u001b[0m\u001b[0;34m\u001b[0m\u001b[0;34m\u001b[0m\u001b[0m\n",
            "\u001b[0;32m<ipython-input-23-66e88297603f>\u001b[0m in \u001b[0;36mremove\u001b[0;34m(self, value)\u001b[0m\n\u001b[1;32m     49\u001b[0m                 \u001b[0mcurr_node\u001b[0m \u001b[0;34m=\u001b[0m \u001b[0mcurr_node\u001b[0m\u001b[0;34m.\u001b[0m\u001b[0mnext\u001b[0m\u001b[0;34m\u001b[0m\u001b[0;34m\u001b[0m\u001b[0m\n\u001b[1;32m     50\u001b[0m \u001b[0;34m\u001b[0m\u001b[0m\n\u001b[0;32m---> 51\u001b[0;31m             \u001b[0;32mif\u001b[0m \u001b[0mcurr_node\u001b[0m \u001b[0;34m!=\u001b[0m \u001b[0mNode\u001b[0m\u001b[0;34m:\u001b[0m\u001b[0;34m\u001b[0m\u001b[0;34m\u001b[0m\u001b[0m\n\u001b[0m\u001b[1;32m     52\u001b[0m                 \u001b[0maux\u001b[0m\u001b[0;34m.\u001b[0m\u001b[0mnext\u001b[0m \u001b[0;34m=\u001b[0m \u001b[0mcurr_node\u001b[0m\u001b[0;34m.\u001b[0m\u001b[0mnext\u001b[0m\u001b[0;34m\u001b[0m\u001b[0;34m\u001b[0m\u001b[0m\n\u001b[1;32m     53\u001b[0m                 \u001b[0mcurr_node\u001b[0m \u001b[0;34m=\u001b[0m \u001b[0;32mNone\u001b[0m\u001b[0;34m\u001b[0m\u001b[0;34m\u001b[0m\u001b[0m\n",
            "\u001b[0;31mNameError\u001b[0m: name 'Node' is not defined"
          ]
        }
      ]
    }
  ]
}